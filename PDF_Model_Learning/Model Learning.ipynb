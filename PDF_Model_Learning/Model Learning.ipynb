{
  "cells": [
    {
      "cell_type": "markdown",
      "metadata": {
        "id": "oJpHaky7OH-x"
      },
      "source": [
        "# PDF File Analysis for Maliciousness Prediction"
      ]
    },
    {
      "cell_type": "code",
      "execution_count": 2,
      "metadata": {
        "id": "ehM4loFZOD-i"
      },
      "outputs": [],
      "source": [
        "import os\n",
        "import json\n",
        "import pandas as pd\n",
        "from urllib.parse import urlparse\n",
        "import matplotlib.pyplot as plt\n",
        "from collections import defaultdict\n",
        "import seaborn as sns\n",
        "\n",
        "class PdfFileAnalysisForMaliciousnessPrediction:\n",
        "  def __init__(self, benign_files_folder_path, malicious_files_folder_path):\n",
        "    # Store paths of benign and malicious files\n",
        "    self.benign_files_path = self.getFilePaths(benign_files_folder_path)\n",
        "    self.malicious_files_path = self.getFilePaths(malicious_files_folder_path)\n",
        "    self.malicious = {}\n",
        "    self.benign = {}\n",
        "    self.topNUrls = 10\n",
        "    self.kForCrossValidation = 10\n",
        "\n",
        "    # Start Preprocessing\n",
        "    self.preprocessing()\n",
        "\n",
        "  def getFilePaths(self, folderPath):\n",
        "    # Retrieve paths of all files in the specified folder\n",
        "    files = os.listdir(folderPath)\n",
        "    file_paths = []\n",
        "    for file_name in files:\n",
        "      file_paths.append(os.path.join(folderPath, file_name))\n",
        "    return file_paths\n",
        "\n",
        "  def preprocessing(self):\n",
        "    # Extracting Yara Signatures\n",
        "    yara_signatures = self.extractYaraSignatures()\n",
        "    # Extracting Static Properties\n",
        "    static_properties = self.extractStaticProperties()\n",
        "\n",
        "    # Storing Yara Signatures, Static Properties separately for Benign and Malicious files\n",
        "    b_yara_signatures, m_yara_signatures = yara_signatures\n",
        "    b_static_properties, m_static_properties = static_properties\n",
        "\n",
        "    # Extractiong urXs(uris,urls) from the following keys from json\n",
        "    urXs = ['regex_uris', 'regex_urls', 'pypdf_uris']\n",
        "    requiredDomains = []\n",
        "    for i in urXs:\n",
        "      b_not_in_m, m_not_in_b, sorted_b, sorted_m = self.get_urls(self.topNUrls,i)\n",
        "      requiredDomains += b_not_in_m\n",
        "      requiredDomains += m_not_in_b\n",
        "      requiredDomains = list(set(requiredDomains))\n",
        "\n",
        "    # Converting Yara Signatures of Benign and Malicious to DataFrames\n",
        "    b_yara_df = pd.DataFrame(b_yara_signatures)\n",
        "    m_yara_df = pd.DataFrame(m_yara_signatures)\n",
        "\n",
        "    # Converting Static Properties of Benign and Malicious to DataFrames\n",
        "    b_static_properties_df = pd.DataFrame(b_static_properties).T\n",
        "    m_static_properties_df = pd.DataFrame(m_static_properties).T\n",
        "\n",
        "    b_urx_dicts, m_urx_dicts = self.check_if_exists(requiredDomains)\n",
        "    b_rows_dict = {}\n",
        "    for outer_key, inner_dict in b_urx_dicts.items():\n",
        "      b_rows_dict[outer_key] = inner_dict\n",
        "\n",
        "    m_rows_dict = {}\n",
        "    for outer_key, inner_dict in m_urx_dicts.items():\n",
        "      m_rows_dict[outer_key] = inner_dict\n",
        "\n",
        "    # Convert Urxs dictionary to DataFrame\n",
        "    b_urx_df = pd.DataFrame(b_rows_dict).T\n",
        "    m_urx_df = pd.DataFrame(m_rows_dict).T\n",
        "\n",
        "    # Combining all features to form benign and malicious dataframe\n",
        "    self.benign_df = pd.concat([b_yara_df, b_static_properties_df, b_urx_df], axis = 1)\n",
        "    self.malicious_df = pd.concat([m_yara_df, m_static_properties_df, m_urx_df], axis = 1)\n",
        "\n",
        "  def extractYaraSignatures(self):\n",
        "    # Initialize dictionaries to store YARA signatures\n",
        "    benign_yara_signatures = {}\n",
        "    malicious_yara_signatures = {}\n",
        "\n",
        "    numOfBenignFiles = len(self.benign_files_path)\n",
        "    numOfMaliciousFiles = len(self.malicious_files_path)\n",
        "\n",
        "    # Extract YARA signatures from benign files\n",
        "    for ind, file_path in enumerate(self.benign_files_path):\n",
        "      with open(file_path, 'r') as file:\n",
        "        # Load JSON data from file and get YARA signatures\n",
        "        yara_signatures = json.load(file)['yara_signatures']\n",
        "        # Process each YARA signature in the file\n",
        "        for yara_sign in yara_signatures:\n",
        "          # Check if the signature already exists in the dictionaries\n",
        "          if(yara_sign in benign_yara_signatures):\n",
        "            benign_yara_signatures[yara_sign][ind] = 1\n",
        "          else:\n",
        "            # Initialize lists for all files with zeros\n",
        "            benign_yara_signatures[yara_sign] = [0 for i in range(numOfBenignFiles)]\n",
        "            malicious_yara_signatures[yara_sign] = [0 for i in range(numOfMaliciousFiles)]\n",
        "            benign_yara_signatures[yara_sign][ind] = 1\n",
        "\n",
        "    # Extract YARA signatures from malicious files\n",
        "    for ind, file_path in enumerate(self.malicious_files_path):\n",
        "      with open(file_path, 'r') as file:\n",
        "        # Load JSON data from file and get YARA signatures\n",
        "        yara_signatures = json.load(file)['yara_signatures']\n",
        "        # Process each YARA signature in the file\n",
        "        for yara_sign in yara_signatures:\n",
        "          # Check if the signature already exists in the dictionaries\n",
        "          if(yara_sign in malicious_yara_signatures.keys()):\n",
        "            malicious_yara_signatures[yara_sign][ind] = 1\n",
        "          else:\n",
        "            # Initialize lists for all files with zeros\n",
        "            malicious_yara_signatures[yara_sign] = [0 for i in range(numOfMaliciousFiles)]\n",
        "            benign_yara_signatures[yara_sign] = [0 for i in range(numOfBenignFiles)]\n",
        "            malicious_yara_signatures[yara_sign][ind] = 1\n",
        "\n",
        "    return (benign_yara_signatures, malicious_yara_signatures)\n",
        "\n",
        "  def extractStaticProperties(self):\n",
        "    # Initialize dictionaries to store static properties\n",
        "    benign_props = {}\n",
        "    malicious_props = {}\n",
        "\n",
        "    # Extract static properties from benign files\n",
        "    for ind, file_path in enumerate(self.benign_files_path):\n",
        "      with open(file_path, 'r') as file:\n",
        "        # Load JSON data from file and get static properties\n",
        "        benign_props[ind] = json.load(file)['static_properties']\n",
        "\n",
        "    # Extract static properties from malicious files\n",
        "    for ind, file_path in enumerate(self.malicious_files_path):\n",
        "      with open(file_path, 'r') as file:\n",
        "         # Load JSON data from file and get static properties\n",
        "        malicious_props[ind] = json.load(file)['static_properties']\n",
        "    return (benign_props, malicious_props)\n",
        "\n",
        "  # Method to convert list of URLs to domain list\n",
        "  def list_to_check(self, file_list):\n",
        "      domain_list = []\n",
        "      for url in file_list:\n",
        "          domain_list.append(self.extract_domain(url))\n",
        "      return domain_list\n",
        "\n",
        "  # Method to extract domain from URL\n",
        "  def extract_domain(self, url):\n",
        "      parsed_url = urlparse(url)\n",
        "      if parsed_url.netloc != '':\n",
        "          return parsed_url.netloc\n",
        "      else:\n",
        "          path_parts = parsed_url.path.split('/')\n",
        "          return path_parts[0] if path_parts[0] != '' else None\n",
        "\n",
        "  # Method to count frequency of elements\n",
        "  def frequency_counter(self, elements, frequency):\n",
        "      for element in elements:\n",
        "          if element in frequency:\n",
        "              frequency[element] += 1\n",
        "          else:\n",
        "              frequency[element] = 1\n",
        "      return frequency\n",
        "\n",
        "  # Method to calculate ratio of dictionary values\n",
        "  def calculate_ratio(self, dictionary):\n",
        "      total_sum = sum(dictionary.values())\n",
        "      for key, value in dictionary.items():\n",
        "          ratio = value / total_sum\n",
        "          dictionary[key] = (value, ratio)\n",
        "      return dictionary\n",
        "\n",
        "  # Method to check benign domains not in malicious\n",
        "  def check_ben_not_in_mal(self, size):\n",
        "      list_check = []\n",
        "      keys = self.benign.keys()\n",
        "      i = 0\n",
        "      for key in self.benign:\n",
        "          if key not in (self.sorted_malicious):\n",
        "              list_check.append(key)\n",
        "              i += 1\n",
        "          if i == size:\n",
        "              break\n",
        "      return list_check\n",
        "\n",
        "  # Method to check malicious domains not in benign\n",
        "  def check_mal_not_in_ben(self, size):\n",
        "      list_check = []\n",
        "      i = 0\n",
        "      for key in self.malicious:\n",
        "          if key not in (self.sorted_benign):\n",
        "              list_check.append(key)\n",
        "              i += 1\n",
        "          if i == size:\n",
        "              break\n",
        "      return list_check\n",
        "\n",
        "  def get_urls(self, size=10, type='regex_urls'):\n",
        "      # Analyzing benign URLs\n",
        "      benign_list=self.benign_files_path\n",
        "      malicious_list=self.malicious_files_path\n",
        "      for file_path in benign_list:\n",
        "          with open(file_path, 'r') as file:\n",
        "              content = file.read()\n",
        "              dictionary = json.loads(content)\n",
        "              list_ = self.list_to_check(dictionary[type])\n",
        "              self.frequency_counter(list_, self.benign)\n",
        "\n",
        "      # Analyzing malicious URLs\n",
        "      for file_path in malicious_list:\n",
        "          with open(file_path, 'r') as file:\n",
        "              content = file.read()\n",
        "              dictionary = json.loads(content)\n",
        "              list_ = self.list_to_check(dictionary[type])\n",
        "              self.frequency_counter(list_, self.malicious)\n",
        "\n",
        "      # Sorting dictionaries by frequency and calculating ratios\n",
        "      self.sorted_benign = dict(sorted(self.benign.items(), key=lambda item: item[1], reverse=True))\n",
        "      self.sorted_malicious = dict(sorted(self.malicious.items(), key=lambda item: item[1], reverse=True))\n",
        "      self.sorted_benign = dict(self.calculate_ratio(self.sorted_benign), reverse=True)\n",
        "      self.sorted_malicious = dict(self.calculate_ratio(self.sorted_malicious), reverse=True)\n",
        "\n",
        "      # Returning sorted dictionaries\n",
        "      return self.check_ben_not_in_mal(size), self.check_mal_not_in_ben(size), self.sorted_benign, self.sorted_malicious\n",
        "\n",
        "  def check_if_exists(self, requiredDomains):\n",
        "    check_in_benign = defaultdict(dict)\n",
        "    check_in_malicious = defaultdict(dict)\n",
        "\n",
        "    for domain in requiredDomains:\n",
        "      for ind, file_path in enumerate(self.benign_files_path):\n",
        "        b_regex_urls = []\n",
        "        b_regex_uris = []\n",
        "        b_pypdf_urls = []\n",
        "        with open(file_path, 'r') as file:\n",
        "          # Load JSON data from file and get Urx's(Url's,Uri's)\n",
        "          loaded_file = json.load(file)\n",
        "          for i in loaded_file['regex_urls']:\n",
        "            b_regex_urls.append(self.extract_domain(i))\n",
        "          for i in loaded_file['regex_uris']:\n",
        "            b_regex_uris.append(self.extract_domain(i))\n",
        "          for i in loaded_file['pypdf_uris']:\n",
        "            b_pypdf_urls.append(self.extract_domain(i))\n",
        "          b_regex_urls = list(set(b_regex_urls))\n",
        "          b_regex_uris = list(set(b_regex_uris))\n",
        "          b_pypdf_urls = list(set(b_pypdf_urls))\n",
        "          if (domain in(b_regex_urls) or domain in(b_regex_uris) or domain in(b_pypdf_urls)):\n",
        "            check_in_benign[ind][domain] = 1\n",
        "            continue\n",
        "          check_in_benign[ind][domain] = 0\n",
        "\n",
        "      for ind, file_path in enumerate(self.malicious_files_path):\n",
        "        m_regex_urls = []\n",
        "        m_regex_uris = []\n",
        "        m_pypdf_urls = []\n",
        "        with open(file_path, 'r') as file:\n",
        "          # Load JSON data from file and get URX\n",
        "          loaded_file = json.load(file)\n",
        "          for i in loaded_file['regex_urls']:\n",
        "            m_regex_urls.append(self.extract_domain(i))\n",
        "          for i in loaded_file['regex_uris']:\n",
        "            m_regex_uris.append(self.extract_domain(i))\n",
        "          for i in loaded_file['pypdf_uris']:\n",
        "            m_pypdf_urls.append(self.extract_domain(i))\n",
        "        m_regex_urls = list(set(m_regex_urls))\n",
        "        m_regex_uris = list(set(m_regex_uris))\n",
        "        m_pypdf_urls = list(set(m_pypdf_urls))\n",
        "        if (domain in(m_regex_urls) or domain in(m_regex_uris) or domain in(m_pypdf_urls)):\n",
        "          check_in_malicious[ind][domain] = 1\n",
        "          continue\n",
        "        check_in_malicious[ind][domain] = 0\n",
        "\n",
        "    return (check_in_benign, check_in_malicious)"
      ]
    },
    {
      "cell_type": "code",
      "execution_count": null,
      "metadata": {
        "id": "o6T1RQr1PW80"
      },
      "outputs": [],
      "source": [
        "# Creating an Object of above class to get both Benign and Malicious DataFrames\n",
        "obj = PdfFileAnalysisForMaliciousnessPrediction('features/benign', 'features/malicious')\n",
        "b_df = obj.benign_df\n",
        "m_df = obj.malicious_df\n",
        "# Saving Generated DataFrames of Benign and Malicious as it takes lots of time to compute them\n",
        "b_df.to_csv('benign.csv')\n",
        "m_df.to_csv('malicious.csv')"
      ]
    },
    {
      "cell_type": "markdown",
      "metadata": {
        "id": "oVZNUOmDf_2V"
      },
      "source": [
        "### ML Models to Identify the Pdf file being Benign or Malicious\n",
        "\n",
        "#### 1. Random Forest\n",
        "#### 2. Gradient Boosting\n",
        "#### 3. XGBoost\n",
        "\n",
        "### **Note** : Hyperparameters are taken by applying GridSearchCV  "
      ]
    },
    {
      "cell_type": "code",
      "execution_count": 8,
      "metadata": {
        "id": "lz17Sjlza-PC"
      },
      "outputs": [],
      "source": [
        "import numpy as np\n",
        "import pandas as pd\n",
        "from sklearn.model_selection import KFold\n",
        "from sklearn.metrics import confusion_matrix, ConfusionMatrixDisplay\n",
        "from sklearn.feature_selection import SelectKBest, chi2\n",
        "from sklearn.model_selection import train_test_split\n",
        "from sklearn.ensemble import RandomForestClassifier\n",
        "from sklearn.ensemble import GradientBoostingClassifier\n",
        "from xgboost import XGBClassifier\n",
        "\n",
        "class SupervisedClassificationMachineLearningModel:\n",
        "    def __init__(self, dataFrame, target_variable):\n",
        "        self.df = dataFrame\n",
        "        self.target_variable = target_variable\n",
        "\n",
        "        # Display available ML methods\n",
        "        print('Available ML Methods \\n1. rForest() -> Random Forest\\n2. gBoosting() -> Gradient Boosting\\n3. xgBoost() -> XGBoost\\n')\n",
        "\n",
        "    def performKFold(self, k, model):\n",
        "        # KFold Cross Validation\n",
        "        kf = KFold(n_splits=k, shuffle=True)\n",
        "        conf_matrix = []\n",
        "        for ind, (train_ind, test_ind) in enumerate(kf.split(self.df)):\n",
        "            train_df = self.df.iloc[train_ind, :]\n",
        "            test_df = self.df.iloc[test_ind, :]\n",
        "\n",
        "            # Data Splitting for train and test sets\n",
        "            train_df_X = train_df.drop(self.target_variable, axis=1)\n",
        "            test_df_X = test_df.drop(self.target_variable, axis=1)\n",
        "\n",
        "            train_df_y = train_df[self.target_variable]\n",
        "            test_df_y = test_df[self.target_variable]\n",
        "\n",
        "            # Feature Selection using SelectKBest and chi2\n",
        "            train_df_X = self.findKBestFeatures(train_df_X, train_df_y)\n",
        "            test_df_X = self.findKBestFeatures(test_df_X, test_df_y)\n",
        "\n",
        "            # Model fitting and prediction\n",
        "            model.fit(train_df_X, train_df_y)\n",
        "            predictions = model.predict(test_df_X)\n",
        "\n",
        "            if len(conf_matrix) == 0:\n",
        "                conf_matrix = confusion_matrix(test_df_y, predictions)\n",
        "            else:\n",
        "                conf_matrix += confusion_matrix(test_df_y, predictions)\n",
        "        return model, conf_matrix\n",
        "\n",
        "    def findKBestFeatures(self, X, y):\n",
        "        # Feature Selection using SelectKBest and chi2\n",
        "        X_new = SelectKBest(chi2, k=self.kBest).fit_transform(X, y)\n",
        "        return X_new\n",
        "\n",
        "    def rForest(self):\n",
        "        # Random Forest method\n",
        "        numOfTrees = int(input('No. of trees - '))\n",
        "        maxDepth = int(input('Max depth - '))\n",
        "        kFold = int(input('K for K-Fold Cross Validation - '))\n",
        "        self.kBest = int(input(f'No. of Features to be selected out of {self.df.shape[1]-1} - '))\n",
        "\n",
        "        model = RandomForestClassifier(n_estimators=numOfTrees, max_depth=maxDepth, random_state=42)\n",
        "        return self.performKFold(kFold, model)\n",
        "\n",
        "    def gBoosting(self):\n",
        "        # Gradient Boosting method\n",
        "        numOfBoostings = int(input('No. of Boostings - '))\n",
        "        maxDepth = int(input('Max Depth - '))\n",
        "        kFold = int(input('K for K-Fold Cross Validation - '))\n",
        "        self.kBest = int(input(f'No. of Features to be selected out of {self.df.shape[1]-1} - '))\n",
        "\n",
        "        model = GradientBoostingClassifier(n_estimators=numOfBoostings, max_depth=maxDepth, random_state=42)\n",
        "        return self.performKFold(kFold, model)\n",
        "\n",
        "    def xgBoost(self):\n",
        "        # XGBoost method\n",
        "        numOfBoostings = int(input('No. of Boostings - '))\n",
        "        maxDepth = int(input('Max Depth - '))\n",
        "        kFold = int(input('K for K-Fold Cross Validation - '))\n",
        "        self.kBest = int(input(f'No. of Features to be selected out of {self.df.shape[1]-1} - '))\n",
        "\n",
        "        model = XGBClassifier(n_estimators=numOfBoostings, max_depth=maxDepth, random_state=42)\n",
        "        return self.performKFold(kFold, model)"
      ]
    },
    {
      "cell_type": "code",
      "execution_count": 9,
      "metadata": {
        "colab": {
          "base_uri": "https://localhost:8080/"
        },
        "id": "UZrDYCM2hlU2",
        "outputId": "7078eb46-1c0b-47a9-f6b9-8205fa4dcfe2"
      },
      "outputs": [
        {
          "name": "stdout",
          "output_type": "stream",
          "text": [
            "<class 'pandas.core.frame.DataFrame'>\n",
            "Index: 9790 entries, 0 to 5001\n",
            "Data columns (total 79 columns):\n",
            " #   Column                                             Non-Null Count  Dtype  \n",
            "---  ------                                             --------------  -----  \n",
            " 0   without_attachments                                9790 non-null   float64\n",
            " 1   without_images                                     9790 non-null   float64\n",
            " 2   with_urls                                          9790 non-null   float64\n",
            " 3   multiple_versions                                  9790 non-null   float64\n",
            " 4   contentis_base64                                   9790 non-null   float64\n",
            " 5   Big_Numbers1                                       9790 non-null   float64\n",
            " 6   without_urls                                       9790 non-null   float64\n",
            " 7   suspicious_packer_section                          9790 non-null   float64\n",
            " 8   invalid_trailer_structure                          9790 non-null   float64\n",
            " 9   invalid_xref_numbers                               9790 non-null   float64\n",
            " 10  vmdetect                                           9790 non-null   float64\n",
            " 11  multiple_filtering                                 9790 non-null   float64\n",
            " 12  Big_Numbers0                                       9790 non-null   float64\n",
            " 13  with_images                                        9790 non-null   float64\n",
            " 14  Big_Numbers2                                       9790 non-null   float64\n",
            " 15  Big_Numbers4                                       9790 non-null   float64\n",
            " 16  Big_Numbers3                                       9790 non-null   float64\n",
            " 17  IsSuspicious                                       9790 non-null   float64\n",
            " 18  header_evasion                                     9790 non-null   float64\n",
            " 19  JBIG2_wrong_version                                9790 non-null   float64\n",
            " 20  MoleBoxv20                                         9790 non-null   float64\n",
            " 21  FlateDecode_wrong_version                          9790 non-null   float64\n",
            " 22  possible_includes_base64_packed_functions          9790 non-null   float64\n",
            " 23  suspicious_launch_action                           9790 non-null   float64\n",
            " 24  memory_shylock                                     9790 non-null   float64\n",
            " 25  maldoc_OLE_file_magic_number                       9790 non-null   float64\n",
            " 26  suspicious_creator                                 9790 non-null   float64\n",
            " 27  possible_exploit                                   9790 non-null   float64\n",
            " 28  xtreme_rat                                         9790 non-null   float64\n",
            " 29  CRC32c_poly_Constant                               9790 non-null   float64\n",
            " 30  RSharedStrings                                     9790 non-null   float64\n",
            " 31  Cerberus                                           9790 non-null   float64\n",
            " 32  suspicious_embed                                   9790 non-null   float64\n",
            " 33  PDF_Embedded_Exe                                   9790 non-null   float64\n",
            " 34  JBIG2Decode                                        9790 non-null   float64\n",
            " 35  XML_forms                                          9790 non-null   float64\n",
            " 36  acro_form                                          9790 non-null   float64\n",
            " 37  auto_action                                        9790 non-null   float64\n",
            " 38  colors                                             9790 non-null   float64\n",
            " 39  cross_reference_table                              9790 non-null   float64\n",
            " 40  embedded_files                                     9790 non-null   float64\n",
            " 41  file_size                                          9790 non-null   float64\n",
            " 42  java_script                                        9790 non-null   float64\n",
            " 43  js                                                 9790 non-null   float64\n",
            " 44  launch_action                                      9790 non-null   float64\n",
            " 45  object_end                                         9790 non-null   float64\n",
            " 46  object_start                                       9790 non-null   float64\n",
            " 47  object_streams                                     9790 non-null   float64\n",
            " 48  open_action                                        9790 non-null   float64\n",
            " 49  page_count                                         9790 non-null   float64\n",
            " 50  rich_media                                         9790 non-null   float64\n",
            " 51  start_cross_reference_table                        9790 non-null   float64\n",
            " 52  stream_end                                         9790 non-null   float64\n",
            " 53  stream_start                                       9790 non-null   float64\n",
            " 54  trailer_dictionary                                 9790 non-null   float64\n",
            " 55  Sevearity                                          9790 non-null   float64\n",
            " 56  ['invalid_xref_table']                             9790 non-null   float64\n",
            " 57  ['linearized']                                     9790 non-null   float64\n",
            " 58  930444b4-5fee-4da0-be72-9cc71ca64820.filesusr.com  9790 non-null   float64\n",
            " 59  www.matedu.com.cn                                  9790 non-null   float64\n",
            " 60  www.test.de                                        9790 non-null   float64\n",
            " 61  www.zdh.de                                         9790 non-null   float64\n",
            " 62  chromedriver.chromium.org                          9790 non-null   float64\n",
            " 63  academy.hackthebox.eu                              9790 non-null   float64\n",
            " 64  instagram.com                                      9790 non-null   float64\n",
            " 65  Quarto.com                                         9790 non-null   float64\n",
            " 66  specialsales@quarto.com                            9790 non-null   float64\n",
            " 67  cookiedatabase.org                                 9790 non-null   float64\n",
            " 68  shoxet.com                                         9790 non-null   float64\n",
            " 69  gotblockz.com                                      9790 non-null   float64\n",
            " 70  noshamewithself.com                                9790 non-null   float64\n",
            " 71  blaquecat.com                                      9790 non-null   float64\n",
            " 72  motiontoken.tech                                   9790 non-null   float64\n",
            " 73  tecunosc.ro                                        9790 non-null   float64\n",
            " 74  www.cuelgalo.com                                   9790 non-null   float64\n",
            " 75  sanatkedisi.com                                    9790 non-null   float64\n",
            " 76  richonline.club                                    9790 non-null   float64\n",
            " 77  wozyzy.com                                         9790 non-null   float64\n",
            " 78  target                                             9790 non-null   int64  \n",
            "dtypes: float64(78), int64(1)\n",
            "memory usage: 6.0 MB\n"
          ]
        }
      ],
      "source": [
        "m_df = pd.read_csv('malicious.csv')\n",
        "b_df = pd.read_csv('benign.csv')\n",
        "\n",
        "m_df = m_df.iloc[:,1:]\n",
        "b_df = b_df.iloc[:,1:]\n",
        "\n",
        "m_df['target'] = 1\n",
        "b_df['target'] = 0\n",
        "\n",
        "concatenated_df = pd.concat([m_df, b_df], axis=0)\n",
        "\n",
        "df = concatenated_df.dropna()\n",
        "\n",
        "df.info()"
      ]
    },
    {
      "cell_type": "code",
      "execution_count": 10,
      "metadata": {
        "id": "vHoHsje4x6wK"
      },
      "outputs": [],
      "source": [
        "df = df.rename(columns={\"['linearized']\": 'linearized'})\n",
        "df = df.rename(columns={\"['invalid_xref_table']\": 'invalid_xref_table'})"
      ]
    },
    {
      "cell_type": "code",
      "execution_count": 88,
      "metadata": {
        "colab": {
          "base_uri": "https://localhost:8080/"
        },
        "id": "mrw8LXMZhwP3",
        "outputId": "e7154e01-d4ae-47c8-ed83-5ea6fd3346d1"
      },
      "outputs": [
        {
          "name": "stdout",
          "output_type": "stream",
          "text": [
            "Available ML Methods \n",
            "1. rForest() -> Random Forest\n",
            "2. gBoosting() -> Gradient Boosting\n",
            "3. xgBoost() -> XGBoost\n",
            "\n"
          ]
        }
      ],
      "source": [
        "mlModel = SupervisedClassificationMachineLearningModel(df, 'target')"
      ]
    },
    {
      "cell_type": "code",
      "execution_count": 98,
      "metadata": {
        "colab": {
          "base_uri": "https://localhost:8080/",
          "height": 617
        },
        "id": "B6DfON09h_nT",
        "outputId": "b9c42a02-a324-449a-d397-1fc60dae021b"
      },
      "outputs": [
        {
          "name": "stdout",
          "output_type": "stream",
          "text": [
            "No. of trees - 111\n",
            "Max depth - 125\n",
            "K for K-Fold Cross Validation - 4\n",
            "No. of Features to be selected out of 78 - 78\n",
            "Model - RandomForestClassifier(max_depth=125, n_estimators=111, random_state=42)\n"
          ]
        },
        {
          "data": {
            "text/plain": [
              "<Figure size 800x600 with 0 Axes>"
            ]
          },
          "metadata": {},
          "output_type": "display_data"
        },
        {
          "data": {
            "image/png": "[encoded data removed]",
            "text/plain": [
              "<Figure size 640x480 with 2 Axes>"
            ]
          },
          "metadata": {},
          "output_type": "display_data"
        }
      ],
      "source": [
        "model,confMatrix = mlModel.rForest()\n",
        "print('Model -',model)\n",
        "disp = ConfusionMatrixDisplay(confusion_matrix=confMatrix, display_labels=['Benign', 'Malicious'])\n",
        "plt.figure(figsize=(8, 6))\n",
        "disp.plot(cmap=plt.cm.Blues)\n",
        "plt.title('Confusion Matrix - Validation Set - Random Forest')\n",
        "plt.xticks(rotation=45)\n",
        "plt.show()"
      ]
    },
    {
      "cell_type": "code",
      "execution_count": 100,
      "metadata": {
        "colab": {
          "base_uri": "https://localhost:8080/",
          "height": 791
        },
        "id": "Cer1x4qUiGNF",
        "outputId": "6dad53df-af5d-4fd2-de77-e4e6d040108b"
      },
      "outputs": [
        {
          "name": "stdout",
          "output_type": "stream",
          "text": [
            "No. of Boostings - 350\n",
            "Max Depth - 5\n",
            "K for K-Fold Cross Validation - 4\n",
            "No. of Features to be selected out of 78 - 78\n",
            "Model - XGBClassifier(base_score=None, booster=None, callbacks=None,\n",
            "              colsample_bylevel=None, colsample_bynode=None,\n",
            "              colsample_bytree=None, device=None, early_stopping_rounds=None,\n",
            "              enable_categorical=False, eval_metric=None, feature_types=None,\n",
            "              gamma=None, grow_policy=None, importance_type=None,\n",
            "              interaction_constraints=None, learning_rate=None, max_bin=None,\n",
            "              max_cat_threshold=None, max_cat_to_onehot=None,\n",
            "              max_delta_step=None, max_depth=5, max_leaves=None,\n",
            "              min_child_weight=None, missing=nan, monotone_constraints=None,\n",
            "              multi_strategy=None, n_estimators=350, n_jobs=None,\n",
            "              num_parallel_tree=None, random_state=42, ...)\n"
          ]
        },
        {
          "data": {
            "text/plain": [
              "<Figure size 800x600 with 0 Axes>"
            ]
          },
          "metadata": {},
          "output_type": "display_data"
        },
        {
          "data": {
            "image/png": "[encoded data removed]",
            "text/plain": [
              "<Figure size 640x480 with 2 Axes>"
            ]
          },
          "metadata": {},
          "output_type": "display_data"
        }
      ],
      "source": [
        "model,confMatrix = mlModel.xgBoost()\n",
        "print('Model -',model)\n",
        "disp = ConfusionMatrixDisplay(confusion_matrix=confMatrix, display_labels=['Benign', 'Malicious'])\n",
        "plt.figure(figsize=(8, 6))\n",
        "disp.plot(cmap=plt.cm.Blues)\n",
        "plt.title('Confusion Matrix - Validation Set - XGBoost')\n",
        "plt.xticks(rotation=45)\n",
        "plt.show()"
      ]
    },
    {
      "cell_type": "code",
      "execution_count": 101,
      "metadata": {
        "colab": {
          "base_uri": "https://localhost:8080/",
          "height": 617
        },
        "id": "9mS7yXmikL1p",
        "outputId": "0f411ba1-5d77-418f-cbbb-d1da5746000e"
      },
      "outputs": [
        {
          "name": "stdout",
          "output_type": "stream",
          "text": [
            "No. of Boostings - 111\n",
            "Max Depth - 9\n",
            "K for K-Fold Cross Validation - 4\n",
            "No. of Features to be selected out of 78 - 78\n",
            "Model - GradientBoostingClassifier(max_depth=9, n_estimators=111, random_state=42)\n"
          ]
        },
        {
          "data": {
            "text/plain": [
              "<Figure size 800x600 with 0 Axes>"
            ]
          },
          "metadata": {},
          "output_type": "display_data"
        },
        {
          "data": {
            "image/png": "[encoded data removed]",
            "text/plain": [
              "<Figure size 640x480 with 2 Axes>"
            ]
          },
          "metadata": {},
          "output_type": "display_data"
        }
      ],
      "source": [
        "model,confMatrix = mlModel.gBoosting()\n",
        "print('Model -',model)\n",
        "disp = ConfusionMatrixDisplay(confusion_matrix=confMatrix, display_labels=['Benign', 'Malicious'])\n",
        "plt.figure(figsize=(8, 6))\n",
        "disp.plot(cmap=plt.cm.Blues)\n",
        "plt.title('Confusion Matrix - Validation Set - Gradient Boosting')\n",
        "plt.xticks(rotation=45)\n",
        "plt.show()"
      ]
    },
    {
      "cell_type": "markdown",
      "metadata": {
        "id": "Zuptf0WUoN_p"
      },
      "source": [
        "### Comparing 3 models 4 fold cross validation\n",
        "\n",
        "|               | Random Forest | Gradient Boosting | XGBoost |\n",
        "|---------------|----------|----------|----------|\n",
        "|Accuracy (%)       | 99.24 % | 98.98 % | 99.14 % |\n",
        "|False Positive (%) | 0.25 % | 0.53 % | 0.45 % |\n",
        "              "
      ]
    },
    {
      "cell_type": "markdown",
      "metadata": {
        "id": "S-Rls3Vjl13J"
      },
      "source": [
        "### Now I'm trying ensembling of all 3 models\n",
        "### Ensemble of 3 Models and 5 Variants of each -> Total 15 Models"
      ]
    },
    {
      "cell_type": "code",
      "execution_count": 11,
      "metadata": {
        "colab": {
          "base_uri": "https://localhost:8080/"
        },
        "id": "BmU10Zg4m4MT",
        "outputId": "fcda14ab-0f43-4682-f5c8-5f0fefbea264"
      },
      "outputs": [
        {
          "data": {
            "text/plain": [
              "array([[4890,   19],\n",
              "       [ 100, 4781]])"
            ]
          },
          "execution_count": 11,
          "metadata": {},
          "output_type": "execute_result"
        }
      ],
      "source": [
        "from sklearn.model_selection import KFold\n",
        "kf = KFold(n_splits=4) # 75% Train, 25% Test\n",
        "conf_matrix = np.array([[0,0],[0,0]])\n",
        "for ind, (train_ind, test_ind) in enumerate(kf.split(df)):\n",
        "  train_df = df.iloc[train_ind, :]\n",
        "  test_df = df.iloc[test_ind, :]\n",
        "\n",
        "  # Data Splitting for train and test sets\n",
        "  train_df_X = train_df.drop('target', axis=1)\n",
        "  test_df_X = test_df.drop('target', axis=1)\n",
        "\n",
        "  train_df_y = train_df['target']\n",
        "  test_df_y = test_df['target']\n",
        "\n",
        "  rf1 = RandomForestClassifier(n_estimators=51,max_depth=125)\n",
        "  gb1 = GradientBoostingClassifier(n_estimators=125,max_depth=9)\n",
        "  xgb1 = XGBClassifier(n_estimators=125,max_depth=5)\n",
        "\n",
        "  rf2 = RandomForestClassifier(n_estimators=101,max_depth=175)\n",
        "  gb2 = GradientBoostingClassifier(n_estimators=75,max_depth=5)\n",
        "  xgb2 = XGBClassifier(n_estimators=75,max_depth=9)\n",
        "\n",
        "  rf3 = RandomForestClassifier(n_estimators=151,max_depth=151)\n",
        "  gb3 = GradientBoostingClassifier(n_estimators=51,max_depth=7)\n",
        "  xgb3 = XGBClassifier(n_estimators=51,max_depth=7)\n",
        "\n",
        "  rf4 = RandomForestClassifier(n_estimators=201,max_depth=151)\n",
        "  gb4 = GradientBoostingClassifier(n_estimators=251,max_depth=7)\n",
        "  xgb4 = XGBClassifier(n_estimators=251,max_depth=7)\n",
        "\n",
        "  rf5 = RandomForestClassifier(n_estimators=251,max_depth=151)\n",
        "  gb5 = GradientBoostingClassifier(n_estimators=201,max_depth=7)\n",
        "  xgb5 = XGBClassifier(n_estimators=201,max_depth=7)\n",
        "\n",
        "  rf1.fit(train_df_X,train_df_y)\n",
        "  gb1.fit(train_df_X,train_df_y)\n",
        "  xgb1.fit(train_df_X,train_df_y)\n",
        "\n",
        "  rf2.fit(train_df_X,train_df_y)\n",
        "  gb2.fit(train_df_X,train_df_y)\n",
        "  xgb2.fit(train_df_X,train_df_y)\n",
        "\n",
        "  rf3.fit(train_df_X,train_df_y)\n",
        "  gb3.fit(train_df_X,train_df_y)\n",
        "  xgb3.fit(train_df_X,train_df_y)\n",
        "\n",
        "  rf4.fit(train_df_X,train_df_y)\n",
        "  gb4.fit(train_df_X,train_df_y)\n",
        "  xgb4.fit(train_df_X,train_df_y)\n",
        "\n",
        "  rf5.fit(train_df_X,train_df_y)\n",
        "  gb5.fit(train_df_X,train_df_y)\n",
        "  xgb5.fit(train_df_X,train_df_y)\n",
        "\n",
        "  rf_pred1 = rf1.predict(test_df_X)\n",
        "  gb_pred1 = gb1.predict(test_df_X)\n",
        "  xgb_pred1 = xgb1.predict(test_df_X)\n",
        "\n",
        "  rf_pred2 = rf2.predict(test_df_X)\n",
        "  gb_pred2 = gb2.predict(test_df_X)\n",
        "  xgb_pred2 = xgb2.predict(test_df_X)\n",
        "\n",
        "  rf_pred3 = rf3.predict(test_df_X)\n",
        "  gb_pred3 = gb3.predict(test_df_X)\n",
        "  xgb_pred3 = xgb3.predict(test_df_X)\n",
        "\n",
        "  rf_pred4 = rf4.predict(test_df_X)\n",
        "  gb_pred4 = gb4.predict(test_df_X)\n",
        "  xgb_pred4 = xgb4.predict(test_df_X)\n",
        "\n",
        "  rf_pred5 = rf5.predict(test_df_X)\n",
        "  gb_pred5 = gb5.predict(test_df_X)\n",
        "  xgb_pred5 = xgb5.predict(test_df_X)\n",
        "\n",
        "  finalPred = []\n",
        "  for i in range(len(rf_pred1)):\n",
        "    c = rf_pred1[i]+gb_pred1[i]+xgb_pred1[i]+rf_pred2[i]+gb_pred2[i]+xgb_pred2[i]+rf_pred3[i]+gb_pred3[i]+xgb_pred3[i]+rf_pred4[i]+gb_pred4[i]+xgb_pred4[i]+rf_pred5[i]+gb_pred5[i]+xgb_pred5[i]\n",
        "    if(c == 15):\n",
        "      finalPred.append(1)\n",
        "    else:\n",
        "      finalPred.append(0)\n",
        "  finalPred = np.array(finalPred)\n",
        "  conf_matrix += confusion_matrix(test_df_y, finalPred)\n",
        "conf_matrix"
      ]
    },
    {
      "cell_type": "markdown",
      "metadata": {},
      "source": [
        "### Saving all 15 Models"
      ]
    },
    {
      "cell_type": "code",
      "execution_count": 13,
      "metadata": {},
      "outputs": [
        {
          "data": {
            "text/plain": [
              "['xgb_model5.joblib']"
            ]
          },
          "execution_count": 13,
          "metadata": {},
          "output_type": "execute_result"
        }
      ],
      "source": [
        "from joblib import dump\n",
        "\n",
        "dump(rf1, 'rf_model1.joblib')\n",
        "dump(rf2, 'rf_model2.joblib')\n",
        "dump(rf3, 'rf_model3.joblib')\n",
        "dump(rf4, 'rf_model4.joblib')\n",
        "dump(rf5, 'rf_model5.joblib')\n",
        "dump(gb1, 'gb_model1.joblib')\n",
        "dump(gb2, 'gb_model2.joblib')\n",
        "dump(gb3, 'gb_model3.joblib')\n",
        "dump(gb4, 'gb_model4.joblib')\n",
        "dump(gb5, 'gb_model5.joblib')\n",
        "dump(xgb1, 'xgb_model1.joblib')\n",
        "dump(xgb2, 'xgb_model2.joblib')\n",
        "dump(xgb3, 'xgb_model3.joblib')\n",
        "dump(xgb4, 'xgb_model4.joblib')\n",
        "dump(xgb5, 'xgb_model5.joblib')"
      ]
    },
    {
      "cell_type": "code",
      "execution_count": 14,
      "metadata": {
        "colab": {
          "base_uri": "https://localhost:8080/",
          "height": 530
        },
        "id": "z2zYZ-aAguxb",
        "outputId": "6f68d82c-8c3a-4ebc-9b53-ffe50bd82c52"
      },
      "outputs": [
        {
          "data": {
            "text/plain": [
              "<Figure size 800x600 with 0 Axes>"
            ]
          },
          "metadata": {},
          "output_type": "display_data"
        },
        {
          "data": {
            "image/png": "[encoded data removed]",
            "text/plain": [
              "<Figure size 640x480 with 2 Axes>"
            ]
          },
          "metadata": {},
          "output_type": "display_data"
        }
      ],
      "source": [
        "disp = ConfusionMatrixDisplay(confusion_matrix=conf_matrix, display_labels=['Benign', 'Malicious'])\n",
        "plt.figure(figsize=(8, 6))\n",
        "disp.plot(cmap=plt.cm.Blues)\n",
        "plt.title('Confusion Matrix - Validation Set - Ensemble Model')\n",
        "plt.xticks(rotation=45)\n",
        "plt.show()"
      ]
    },
    {
      "cell_type": "markdown",
      "metadata": {
        "id": "likpR1FQ4kEj"
      },
      "source": [
        "\n",
        "\n",
        "|               | 15 Models Combine |\n",
        "|---------------|----------|\n",
        "|Accuracy (%)       | 98.76 % |\n",
        "|False Positive (%) | 0.18 % |\n",
        "              "
      ]
    },
    {
      "cell_type": "markdown",
      "metadata": {
        "id": "DN-RaRR-juct"
      },
      "source": [
        "## ROC Curve"
      ]
    },
    {
      "cell_type": "code",
      "execution_count": null,
      "metadata": {
        "id": "1wbM_ttsmSQ2"
      },
      "outputs": [],
      "source": [
        "from sklearn.ensemble import RandomForestClassifier\n",
        "from sklearn.datasets import make_classification\n",
        "from sklearn.model_selection import KFold\n",
        "from sklearn.metrics import roc_curve, auc\n",
        "import matplotlib.pyplot as plt\n",
        "import numpy as np\n",
        "\n",
        "dfX = df.drop('target', axis = 1)\n",
        "dfY = df['target']\n",
        "\n",
        "rf1 = RandomForestClassifier(n_estimators=51,max_depth=125)\n",
        "gb1 = GradientBoostingClassifier(n_estimators=125,max_depth=9)\n",
        "xgb1 = XGBClassifier(n_estimators=125,max_depth=5)\n",
        "\n",
        "rf2 = RandomForestClassifier(n_estimators=101,max_depth=175)\n",
        "gb2 = GradientBoostingClassifier(n_estimators=75,max_depth=5)\n",
        "xgb2 = XGBClassifier(n_estimators=75,max_depth=9)\n",
        "\n",
        "rf3 = RandomForestClassifier(n_estimators=151,max_depth=151)\n",
        "gb3 = GradientBoostingClassifier(n_estimators=51,max_depth=7)\n",
        "xgb3 = XGBClassifier(n_estimators=51,max_depth=7)\n",
        "\n",
        "rf4 = RandomForestClassifier(n_estimators=201,max_depth=151)\n",
        "gb4 = GradientBoostingClassifier(n_estimators=251,max_depth=7)\n",
        "xgb4 = XGBClassifier(n_estimators=251,max_depth=7)\n",
        "\n",
        "rf5 = RandomForestClassifier(n_estimators=251,max_depth=151)\n",
        "gb5 = GradientBoostingClassifier(n_estimators=201,max_depth=7)\n",
        "xgb5 = XGBClassifier(n_estimators=201,max_depth=7)\n",
        "\n",
        "# Create an ensemble of 15 Random Forest classifiers using 4-fold cross-validation\n",
        "n_models = [rf1, rf2, rf3, rf4, rf5, gb1, gb2, gb3, gb4, gb5, xgb1, xgb2, xgb3, xgb4, xgb5]\n",
        "ensemble_models = []\n",
        "kf = KFold(n_splits=4, shuffle=False)  # 4-fold cross-validation\n",
        "\n",
        "for model in n_models:\n",
        "    model_probs = []  # Collect predicted probabilities for each fold\n",
        "\n",
        "    for train_index, test_index in kf.split(df):\n",
        "        train_df = df.iloc[train_index,:]\n",
        "        test_df = df.iloc[test_index,:]\n",
        "        X_train, X_test = train_df.drop('target', axis=1), test_df.drop('target', axis=1)\n",
        "        y_train, y_test = train_df['target'], test_df['target']\n",
        "\n",
        "        model.fit(X_train, y_train)\n",
        "        probs = model.predict_proba(X_test)[:, 1]\n",
        "        model_probs.extend(probs)\n",
        "\n",
        "    ensemble_models.append(model_probs)\n",
        "\n",
        "# Calculate average probabilities across folds for each model\n",
        "avg_probs = np.mean(ensemble_models, axis=0)\n",
        "\n",
        "# Compute ROC curve and ROC area\n",
        "fpr, tpr, thresholds = roc_curve(dfY, avg_probs)\n",
        "roc_auc = auc(fpr, tpr)\n",
        "\n",
        "# Find threshold with low false positive rate and high true positive rate\n",
        "low_fpr_threshold = thresholds[np.argmax(tpr * (1 - fpr))]"
      ]
    },
    {
      "cell_type": "code",
      "execution_count": 15,
      "metadata": {
        "colab": {
          "base_uri": "https://localhost:8080/",
          "height": 472
        },
        "id": "6WumlzzsPIc9",
        "outputId": "6eddff5c-1f0d-4e8d-cc5d-7651b67796dd"
      },
      "outputs": [
        {
          "data": {
            "image/png": "[encoded data removed]",
            "text/plain": [
              "<Figure size 640x480 with 1 Axes>"
            ]
          },
          "metadata": {},
          "output_type": "display_data"
        }
      ],
      "source": [
        "# Plot ROC curve\n",
        "plt.figure()\n",
        "plt.plot(fpr, tpr, color='darkorange', lw=2, label='ROC curve (area = %0.4f)' % roc_auc)\n",
        "plt.plot([0, 1], [0, 1], color='navy', lw=2, linestyle='--')\n",
        "plt.xlabel('False Positive Rate')\n",
        "plt.ylabel('True Positive Rate')\n",
        "plt.title('Ensemble ROC Curve with Low FPR Threshold and 4-Fold Cross-Validation')\n",
        "plt.axvline(x=fpr[np.argmax(tpr * (1 - fpr))], color='green', linestyle='--', label=f'Threshold Line ')\n",
        "plt.legend(loc=\"lower right\")\n",
        "plt.xlim(0,0.05)\n",
        "plt.ylim(0.8,1)\n",
        "plt.show()"
      ]
    },
    {
      "cell_type": "code",
      "execution_count": 24,
      "metadata": {
        "colab": {
          "base_uri": "https://localhost:8080/"
        },
        "id": "g1Pig78WNVih",
        "outputId": "5082a1cd-e0a7-4e58-b296-f787ce130aec"
      },
      "outputs": [
        {
          "name": "stdout",
          "output_type": "stream",
          "text": [
            "DR vs FP with Thresholds\n",
            " 0.000%     0.0000%             inf\n",
            " 1.168%     0.0081%          0.9994\n",
            " 4.466%     0.0081%          0.9994\n",
            " 5.941%     0.0081%          0.9994\n",
            " 7.171%     0.0081%          0.9993\n",
            " 8.502%     0.0081%          0.9993\n",
            "13.010%     0.0081%          0.9993\n",
            "14.464%     0.0081%          0.9993\n",
            "15.017%     0.0081%          0.9993\n",
            "17.169%     0.0081%          0.9993\n",
            "18.849%     0.0081%          0.9993\n",
            "21.061%     0.0081%          0.9992\n",
            "22.639%     0.0081%          0.9992\n",
            "26.224%     0.0081%          0.9992\n",
            "27.289%     0.0081%          0.9992\n",
            "28.273%     0.0102%          0.9992\n",
            "29.400%     0.0102%          0.9991\n",
            "30.383%     0.0102%          0.9991\n",
            "31.080%     0.0102%          0.9991\n",
            "35.730%     0.0102%          0.9991\n",
            "36.632%     0.0102%          0.9990\n",
            "37.697%     0.0102%          0.9990\n",
            "40.299%     0.0102%          0.9990\n",
            "40.975%     0.0102%          0.9990\n",
            "41.815%     0.0102%          0.9990\n",
            "46.671%     0.0102%          0.9989\n",
            "47.716%     0.0102%          0.9989\n",
            "50.420%     0.0102%          0.9988\n",
            "51.567%     0.0102%          0.9988\n",
            "52.571%     0.0102%          0.9987\n",
            "53.350%     0.0102%          0.9987\n",
            "54.128%     0.0102%          0.9987\n",
            "55.214%     0.0102%          0.9987\n",
            "55.870%     0.0102%          0.9986\n",
            "56.751%     0.0102%          0.9986\n",
            "57.509%     0.0102%          0.9986\n",
            "58.144%     0.0102%          0.9985\n",
            "58.881%     0.0122%          0.9985\n",
            "59.824%     0.0122%          0.9985\n",
            "60.684%     0.0122%          0.9984\n",
            "61.709%     0.0122%          0.9983\n",
            "62.651%     0.0122%          0.9983\n",
            "63.348%     0.0122%          0.9982\n",
            "64.454%     0.0122%          0.9981\n",
            "65.642%     0.0122%          0.9980\n",
            "67.158%     0.0122%          0.9977\n",
            "67.855%     0.0122%          0.9977\n",
            "68.777%     0.0122%          0.9975\n",
            "69.658%     0.0122%          0.9973\n",
            "70.498%     0.0122%          0.9972\n",
            "71.235%     0.0122%          0.9970\n",
            "72.362%     0.0122%          0.9965\n",
            "73.141%     0.0122%          0.9961\n",
            "83.344%     0.0122%          0.9954\n",
            "84.368%     0.0122%          0.9946\n",
            "86.396%     0.0122%          0.9927\n",
            "87.585%     0.0122%          0.9909\n",
            "89.428%     0.0122%          0.9870\n",
            "90.617%     0.0143%          0.9835\n",
            "92.030%     0.0163%          0.9781\n",
            "94.304%     0.0183%          0.9588\n",
            "95.103%     0.0244%          0.9438\n",
            "97.091%     0.0306%          0.8751\n",
            "97.726%     0.0346%          0.8130\n",
            "98.115%     0.0489%          0.7480\n",
            "98.422%     0.0631%          0.6350\n",
            "98.627%     0.0856%          0.5356\n",
            "98.873%     0.1039%          0.4404\n",
            "99.017%     0.1385%          0.3400\n",
            "99.140%     0.1813%          0.2377\n",
            "99.262%     0.2383%          0.1648\n",
            "99.385%     0.2994%          0.1259\n",
            "99.488%     0.4257%          0.0793\n",
            "99.611%     0.5867%          0.0537\n",
            "99.652%     1.0715%          0.0264\n",
            "99.713%     1.2691%          0.0214\n",
            "99.795%     1.4748%          0.0172\n",
            "99.836%     2.0961%          0.0100\n",
            "99.898%     2.6136%          0.0068\n",
            "99.939%     2.8947%          0.0056\n",
            "99.939%     3.6382%          0.0034\n",
            "99.939%     4.1251%          0.0025\n",
            "99.939%     4.6140%          0.0018\n",
            "99.939%     5.7038%          0.0010\n",
            "99.939%     6.3231%          0.0007\n",
            "99.939%     6.6470%          0.0007\n",
            "99.939%     6.8161%          0.0007\n",
            "99.939%     6.9749%          0.0006\n",
            "99.959%     7.1787%          0.0006\n",
            "99.959%     7.2744%          0.0006\n",
            "99.959%     7.3335%          0.0006\n",
            "99.959%     7.4700%          0.0006\n",
            "99.959%     7.5331%          0.0006\n",
            "99.959%     7.7164%          0.0005\n",
            "99.959%     7.7877%          0.0005\n",
            "99.959%     7.8550%          0.0005\n",
            "99.959%     7.9385%          0.0005\n",
            "99.959%     8.0607%          0.0005\n",
            "99.959%     8.1911%          0.0005\n",
            "99.959%     8.4131%          0.0005\n",
            "99.959%     8.5109%          0.0005\n",
            "99.959%     8.7655%          0.0004\n",
            "99.959%     9.0222%          0.0004\n",
            "99.959%     9.1974%          0.0004\n",
            "99.959%     9.4704%          0.0004\n",
            "99.959%     9.6781%          0.0004\n",
            "99.959%     9.8106%          0.0004\n"
          ]
        }
      ],
      "source": [
        "print('DR vs FP with Thresholds')\n",
        "c=0\n",
        "for dr, fp, thr in zip(tpr, fpr, thresholds):\n",
        "  if(c%10 == 0):\n",
        "    if thr > 1:\n",
        "      thr = float('inf')\n",
        "    print(f'{100*dr:>6.3f}%', f'{10*fp:10.4f}%', f'{thr:15.4f}')\n",
        "  c+=1"
      ]
    },
    {
      "cell_type": "code",
      "execution_count": 33,
      "metadata": {
        "colab": {
          "base_uri": "https://localhost:8080/"
        },
        "id": "d6PY1HghcBIa",
        "outputId": "55651239-2573-47e4-c72a-27976ca5e2d4"
      },
      "outputs": [
        {
          "name": "stdout",
          "output_type": "stream",
          "text": [
            "Detection Rate at Best Threshold - 98.853%\n",
            "False Positive at Best Threshold - 0.0917%\n"
          ]
        }
      ],
      "source": [
        "print(f'Detection Rate at Best Threshold - {100*tpr[np.argmax(tpr * (1 - fpr))]:>6.3f}%')\n",
        "print(f'False Positive at Best Threshold - {10*fpr[np.argmax(tpr * (1 - fpr))]:5.4f}%')"
      ]
    }
  ],
  "metadata": {
    "colab": {
      "provenance": []
    },
    "kernelspec": {
      "display_name": "Python 3",
      "name": "python3"
    },
    "language_info": {
      "codemirror_mode": {
        "name": "ipython",
        "version": 3
      },
      "file_extension": ".py",
      "mimetype": "text/x-python",
      "name": "python",
      "nbconvert_exporter": "python",
      "pygments_lexer": "ipython3",
      "version": "3.10.12"
    }
  },
  "nbformat": 4,
  "nbformat_minor": 0
}
